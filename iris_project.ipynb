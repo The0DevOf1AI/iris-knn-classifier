{
 "cells": [
  {
   "cell_type": "code",
   "execution_count": 143,
   "id": "e433976e-1fd3-4040-af72-a389c7d52536",
   "metadata": {},
   "outputs": [
    {
     "name": "stdout",
     "output_type": "stream",
     "text": [
      "Features: ['sepal length (cm)', 'sepal width (cm)', 'petal length (cm)', 'petal width (cm)']\n",
      "Classes: ['setosa' 'versicolor' 'virginica']\n",
      "Shape: (150, 4)\n",
      "Train/test shapes: (105, 4) (45, 4)\n",
      "Test Accuracy: 0.956\n",
      "KNN predictions: ['versicolor', 'virginica']\n",
      "Model saved to iris_knn_model.joblib\n",
      "Loaded model predictions: ['versicolor', 'virginica']\n"
     ]
    },
    {
     "name": "stderr",
     "output_type": "stream",
     "text": [
      "C:\\Users\\EXX\\anaconda3\\envs\\Intro2GISProg\\Lib\\site-packages\\sklearn\\utils\\validation.py:2739: UserWarning: X does not have valid feature names, but KNeighborsClassifier was fitted with feature names\n",
      "  warnings.warn(\n",
      "C:\\Users\\EXX\\anaconda3\\envs\\Intro2GISProg\\Lib\\site-packages\\sklearn\\utils\\validation.py:2739: UserWarning: X does not have valid feature names, but KNeighborsClassifier was fitted with feature names\n",
      "  warnings.warn(\n"
     ]
    }
   ],
   "source": [
    "# 📦 Imports\n",
    "import numpy as np\n",
    "import pandas as pd\n",
    "from sklearn.datasets import load_iris\n",
    "from sklearn.model_selection import train_test_split\n",
    "from sklearn.neighbors import KNeighborsClassifier\n",
    "from sklearn import metrics\n",
    "import joblib  # better performance for sklearn models :contentReference[oaicite:1]{index=1}\n",
    "\n",
    "# ───────────────\n",
    "# 1. Load & Inspect Data\n",
    "# ───────────────\n",
    "iris = load_iris(as_frame=True)  # returns pandas DataFrame for convenience :contentReference[oaicite:2]{index=2}\n",
    "X = iris.data\n",
    "y = iris.target\n",
    "feature_names = iris.feature_names\n",
    "target_names = iris.target_names\n",
    "\n",
    "print(\"Features:\", feature_names)\n",
    "print(\"Classes:\", target_names)\n",
    "print(\"Shape:\", X.shape)\n",
    "\n",
    "# ────────────────────────────────\n",
    "# 2. Split into train/test sets\n",
    "# ────────────────────────────────\n",
    "X_train, X_test, y_train, y_test = train_test_split(\n",
    "    X, y, test_size=0.3, random_state=42, stratify=y\n",
    ")\n",
    "print(\"Train/test shapes:\", X_train.shape, X_test.shape)\n",
    "\n",
    "# ────────────────────────────\n",
    "# 3. Train KNN Classifier (k = 3)\n",
    "# ────────────────────────────\n",
    "knn = KNeighborsClassifier(n_neighbors=3)\n",
    "knn.fit(X_train, y_train)\n",
    "\n",
    "# ────────────────────────────\n",
    "# 4. Evaluate Performance\n",
    "# ────────────────────────────\n",
    "y_pred = knn.predict(X_test)\n",
    "accuracy = metrics.accuracy_score(y_test, y_pred)\n",
    "print(f\"Test Accuracy: {accuracy:.3f}\")\n",
    "\n",
    "# ───────────────────────────────────────────\n",
    "# 5. Make Predictions on New Samples\n",
    "# ───────────────────────────────────────────\n",
    "new_samples = [[3, 5, 4, 2], [2, 3, 5, 4]]\n",
    "pred = knn.predict(new_samples)\n",
    "pred_species = [target_names[p] for p in pred]\n",
    "print(\"KNN predictions:\", pred_species)\n",
    "\n",
    "# ───────────────────────────\n",
    "# 6. Save Model with joblib\n",
    "# ───────────────────────────\n",
    "model_path = \"iris_knn_model.joblib\"\n",
    "joblib.dump(knn, model_path, compress=3)  # compress level reduces size :contentReference[oaicite:3]{index=3}\n",
    "print(f\"Model saved to {model_path}\")\n",
    "\n",
    "# ───────────────────────────\n",
    "# 7. Load & Use the Saved Model\n",
    "# ───────────────────────────\n",
    "loaded_knn = joblib.load(model_path)\n",
    "pred2 = loaded_knn.predict(new_samples)\n",
    "pred_species2 = [target_names[p] for p in pred2]\n",
    "print(\"Loaded model predictions:\", pred_species2)\n"
   ]
  },
  {
   "cell_type": "code",
   "execution_count": null,
   "id": "6b3100b6-d16d-4d33-b9aa-fa6e55996694",
   "metadata": {},
   "outputs": [],
   "source": []
  }
 ],
 "metadata": {
  "kernelspec": {
   "display_name": "Python [conda env:anaconda3-Intro2GISProg]",
   "language": "python",
   "name": "conda-env-anaconda3-Intro2GISProg-py"
  },
  "language_info": {
   "codemirror_mode": {
    "name": "ipython",
    "version": 3
   },
   "file_extension": ".py",
   "mimetype": "text/x-python",
   "name": "python",
   "nbconvert_exporter": "python",
   "pygments_lexer": "ipython3",
   "version": "3.11.10"
  }
 },
 "nbformat": 4,
 "nbformat_minor": 5
}
